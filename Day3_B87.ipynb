{
 "cells": [
  {
   "cell_type": "code",
   "execution_count": null,
   "id": "408991e5-c2ae-4393-b736-17fb8dfeebd3",
   "metadata": {},
   "outputs": [],
   "source": [
    "continution with strings :"
   ]
  },
  {
   "cell_type": "code",
   "execution_count": null,
   "id": "838af64a-d3be-4453-ae46-97bbc5fe3d5f",
   "metadata": {},
   "outputs": [],
   "source": []
  },
  {
   "cell_type": "code",
   "execution_count": 1,
   "id": "f0e37c44-4eae-440b-9755-ab3ea22b7563",
   "metadata": {},
   "outputs": [
    {
     "name": "stdout",
     "output_type": "stream",
     "text": [
      "amit kadam\n"
     ]
    }
   ],
   "source": [
    "fullname = \"amit kadam\"\n",
    "print(fullname)"
   ]
  },
  {
   "cell_type": "code",
   "execution_count": 2,
   "id": "4fdf84bc-0c06-46ee-980f-d0a54ec01b4d",
   "metadata": {},
   "outputs": [
    {
     "name": "stdout",
     "output_type": "stream",
     "text": [
      "Amit Kadam\n"
     ]
    }
   ],
   "source": [
    "print(fullname.title())"
   ]
  },
  {
   "cell_type": "code",
   "execution_count": 3,
   "id": "5f9a0ac4-e9e5-4c87-ab6d-4221f5eff71d",
   "metadata": {},
   "outputs": [
    {
     "name": "stdout",
     "output_type": "stream",
     "text": [
      "AMIT KADAM\n"
     ]
    }
   ],
   "source": [
    "print(fullname.upper())"
   ]
  },
  {
   "cell_type": "code",
   "execution_count": 4,
   "id": "98cbe8ac-f711-4f32-8548-bcf8d9368509",
   "metadata": {},
   "outputs": [
    {
     "name": "stdout",
     "output_type": "stream",
     "text": [
      "amit kadam\n"
     ]
    }
   ],
   "source": [
    "print(fullname.lower())"
   ]
  },
  {
   "cell_type": "code",
   "execution_count": null,
   "id": "10b78d9f-2d42-4c95-8da6-56b4bc86b462",
   "metadata": {},
   "outputs": [],
   "source": [
    "Introduction to f strins :"
   ]
  },
  {
   "cell_type": "code",
   "execution_count": 5,
   "id": "100e6295-e85a-49bd-ab22-4b0c6bb02404",
   "metadata": {},
   "outputs": [],
   "source": [
    "first_name = \"sanjay\"\n",
    "last_name = \"kadam\""
   ]
  },
  {
   "cell_type": "code",
   "execution_count": 7,
   "id": "d8743ac4-4a6d-44f6-9a68-dc6685aea9eb",
   "metadata": {},
   "outputs": [
    {
     "name": "stdout",
     "output_type": "stream",
     "text": [
      "Sanjay Kadam\n"
     ]
    }
   ],
   "source": [
    "fullname = f\"{first_name} {last_name}\"\n",
    "print(fullname.title())"
   ]
  },
  {
   "cell_type": "code",
   "execution_count": 8,
   "id": "6d46ab06-49bd-4f50-9b22-e3b3e56a018e",
   "metadata": {},
   "outputs": [
    {
     "name": "stdout",
     "output_type": "stream",
     "text": [
      "keep up the good work Sanjay Kadam\n"
     ]
    }
   ],
   "source": [
    "message = f\"keep up the good work {fullname.title()}\"\n",
    "print(message)"
   ]
  },
  {
   "cell_type": "code",
   "execution_count": null,
   "id": "75dda21a-e0af-4edb-bffd-b8711dc1bdbc",
   "metadata": {},
   "outputs": [],
   "source": [
    "Adding whitespaces to strings :"
   ]
  },
  {
   "cell_type": "code",
   "execution_count": 9,
   "id": "46a251a0-8711-4c36-9a44-f3ace315acd4",
   "metadata": {},
   "outputs": [
    {
     "name": "stdout",
     "output_type": "stream",
     "text": [
      "fav_language:pythonjavac++reactcswift\n"
     ]
    }
   ],
   "source": [
    "print(\"fav_language:pythonjavac++reactcswift\")"
   ]
  },
  {
   "cell_type": "code",
   "execution_count": 10,
   "id": "d90345ce-b202-442a-9aa3-38d2900a8aaa",
   "metadata": {},
   "outputs": [
    {
     "name": "stdout",
     "output_type": "stream",
     "text": [
      "fav_language:\n",
      "python\n",
      "java\n",
      "c++\n",
      "react\n",
      "c\n",
      "cswift\n"
     ]
    }
   ],
   "source": [
    "print(\"fav_language:\\npython\\njava\\nc++\\n\\treact\\nc\\ncswift\")"
   ]
  },
  {
   "cell_type": "code",
   "execution_count": 12,
   "id": "65e42ece-7ed6-4353-be30-7da0810ed2ae",
   "metadata": {},
   "outputs": [
    {
     "name": "stdout",
     "output_type": "stream",
     "text": [
      "fav_language:\n",
      "\tpython\n",
      "\tjava\n",
      "\tc++\n",
      "\treact\n",
      "\tc\n",
      "\tcswift\n"
     ]
    }
   ],
   "source": [
    "print(\"fav_language:\\n\\tpython\\n\\tjava\\n\\tc++\\n\\treact\\n\\tc\\n\\tcswift\")"
   ]
  },
  {
   "cell_type": "code",
   "execution_count": null,
   "id": "df7e47f7-725e-4bfe-bcf1-da1c8bd91eff",
   "metadata": {},
   "outputs": [],
   "source": []
  },
  {
   "cell_type": "code",
   "execution_count": null,
   "id": "0814076c-8bfe-4b41-a3f4-84fc48ae23db",
   "metadata": {},
   "outputs": [],
   "source": []
  },
  {
   "cell_type": "code",
   "execution_count": null,
   "id": "cfe2af85-6aff-4985-a6a7-c24d980f74cd",
   "metadata": {},
   "outputs": [],
   "source": []
  },
  {
   "cell_type": "code",
   "execution_count": null,
   "id": "502f226a-b743-43d8-acd7-de1fca0e3c71",
   "metadata": {},
   "outputs": [],
   "source": []
  },
  {
   "cell_type": "code",
   "execution_count": null,
   "id": "e5ad0213-424e-4375-b1f5-976d11a79146",
   "metadata": {},
   "outputs": [],
   "source": []
  },
  {
   "cell_type": "code",
   "execution_count": null,
   "id": "94ce70b5-86c5-4fd6-bd5d-79ca65d08f80",
   "metadata": {},
   "outputs": [],
   "source": []
  }
 ],
 "metadata": {
  "kernelspec": {
   "display_name": "Python 3 (ipykernel)",
   "language": "python",
   "name": "python3"
  },
  "language_info": {
   "codemirror_mode": {
    "name": "ipython",
    "version": 3
   },
   "file_extension": ".py",
   "mimetype": "text/x-python",
   "name": "python",
   "nbconvert_exporter": "python",
   "pygments_lexer": "ipython3",
   "version": "3.11.7"
  }
 },
 "nbformat": 4,
 "nbformat_minor": 5
}
